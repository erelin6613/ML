{
  "nbformat": 4,
  "nbformat_minor": 0,
  "metadata": {
    "colab": {
      "name": "Untitled0.ipynb",
      "provenance": [],
      "include_colab_link": true
    },
    "kernelspec": {
      "name": "python3",
      "display_name": "Python 3"
    }
  },
  "cells": [
    {
      "cell_type": "markdown",
      "metadata": {
        "id": "view-in-github",
        "colab_type": "text"
      },
      "source": [
        "<a href=\"https://colab.research.google.com/github/erelin6613/ML/blob/master/google_competition.ipynb\" target=\"_parent\"><img src=\"https://colab.research.google.com/assets/colab-badge.svg\" alt=\"Open In Colab\"/></a>"
      ]
    },
    {
      "cell_type": "code",
      "metadata": {
        "id": "gCK1hw_ouw38",
        "colab_type": "code",
        "colab": {}
      },
      "source": [
        "import requests\n",
        "import os\n",
        "import json\n",
        "import pandas as pd\n",
        "from sklearn.model_selection import train_test_split\n",
        "from keras.preprocessing.text import Tokenizer\n",
        "from keras.models import Sequential\n",
        "from keras.layers import Dense, LSTM, Dropout, Embedding"
      ],
      "execution_count": 0,
      "outputs": []
    },
    {
      "cell_type": "code",
      "metadata": {
        "id": "v86fMWCyvJex",
        "colab_type": "code",
        "colab": {
          "base_uri": "https://localhost:8080/",
          "height": 54
        },
        "outputId": "062067af-53ea-487c-e55c-edb02819a57d"
      },
      "source": [
        "train_data = pd.read_csv('train.csv')\n",
        "final_test_data = pd.read_csv('test.csv')\n",
        "\n",
        "target_cols = set(train_data.columns).difference(set(final_test_data.columns))\n",
        "print(target_cols)"
      ],
      "execution_count": 6,
      "outputs": [
        {
          "output_type": "stream",
          "text": [
            "{'question_well_written', 'question_multi_intent', 'answer_helpful', 'answer_satisfaction', 'question_interestingness_others', 'answer_well_written', 'question_type_entity', 'question_type_consequence', 'answer_plausible', 'question_type_choice', 'answer_type_reason_explanation', 'question_interestingness_self', 'question_type_spelling', 'question_type_procedure', 'question_type_reason_explanation', 'question_has_commonly_accepted_answer', 'question_not_really_a_question', 'question_asker_intent_understanding', 'question_expect_short_answer', 'question_type_compare', 'answer_type_instructions', 'question_type_definition', 'answer_type_procedure', 'question_type_instructions', 'answer_level_of_information', 'question_conversational', 'question_fact_seeking', 'answer_relevance', 'question_body_critical', 'question_opinion_seeking'}\n"
          ],
          "name": "stdout"
        }
      ]
    },
    {
      "cell_type": "code",
      "metadata": {
        "id": "BRrdgkUcvnzH",
        "colab_type": "code",
        "colab": {}
      },
      "source": [
        ""
      ],
      "execution_count": 0,
      "outputs": []
    }
  ]
}